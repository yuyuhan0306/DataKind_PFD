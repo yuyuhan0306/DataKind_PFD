{
 "cells": [
  {
   "cell_type": "markdown",
   "metadata": {
    "collapsed": true
   },
   "source": [
    "## import packages, load txt files and convert to csv files"
   ]
  },
  {
   "cell_type": "code",
   "execution_count": 1,
   "metadata": {
    "collapsed": true
   },
   "outputs": [],
   "source": [
    "import pandas as pd\n",
    "import numpy as np\n",
    "import csv\n",
    "import glob\n",
    "import re"
   ]
  },
  {
   "cell_type": "markdown",
   "metadata": {},
   "source": [
    "## files"
   ]
  },
  {
   "cell_type": "markdown",
   "metadata": {
    "collapsed": true
   },
   "source": [
    "- cands \n",
    "- cmtes \n",
    "- indivs\n",
    "- pacs_other\n",
    "- pacs"
   ]
  },
  {
   "cell_type": "markdown",
   "metadata": {},
   "source": [
    "## (a). cands"
   ]
  },
  {
   "cell_type": "code",
   "execution_count": 2,
   "metadata": {},
   "outputs": [
    {
     "data": {
      "text/plain": [
       "['fin_data/cands00.txt',\n",
       " 'fin_data/cands02.txt',\n",
       " 'fin_data/cands04.txt',\n",
       " 'fin_data/cands06.txt',\n",
       " 'fin_data/cands08.txt',\n",
       " 'fin_data/cands10.txt',\n",
       " 'fin_data/cands12.txt',\n",
       " 'fin_data/cands14.txt',\n",
       " 'fin_data/cands90.txt',\n",
       " 'fin_data/cands92.txt',\n",
       " 'fin_data/cands94.txt',\n",
       " 'fin_data/cands96.txt',\n",
       " 'fin_data/cands98.txt']"
      ]
     },
     "execution_count": 2,
     "metadata": {},
     "output_type": "execute_result"
    }
   ],
   "source": [
    "# read cands txt files\n",
    "read_cands = glob.glob(\"fin_data/cands*.txt\")\n",
    "read_cands"
   ]
  },
  {
   "cell_type": "code",
   "execution_count": 3,
   "metadata": {
    "collapsed": true
   },
   "outputs": [],
   "source": [
    "# write a cands csv file\n",
    "n=0\n",
    "with open('fin_data/cands_all.csv', 'w') as outfile:\n",
    "    for fname in read_cands:\n",
    "        with open(fname) as infile:\n",
    "            for line in infile:\n",
    "                outfile.write(line)\n",
    "                n += 1"
   ]
  },
  {
   "cell_type": "code",
   "execution_count": 4,
   "metadata": {},
   "outputs": [
    {
     "data": {
      "text/plain": [
       "62739"
      ]
     },
     "execution_count": 4,
     "metadata": {},
     "output_type": "execute_result"
    }
   ],
   "source": [
    "n"
   ]
  },
  {
   "cell_type": "code",
   "execution_count": 5,
   "metadata": {},
   "outputs": [
    {
     "data": {
      "text/plain": [
       "(62739, 12)"
      ]
     },
     "execution_count": 5,
     "metadata": {},
     "output_type": "execute_result"
    }
   ],
   "source": [
    "cands_all = pd.read_csv(\"fin_data/cands_all.csv\", quotechar='|', header= None)\n",
    "np.shape(cands_all)"
   ]
  },
  {
   "cell_type": "code",
   "execution_count": 6,
   "metadata": {
    "collapsed": true
   },
   "outputs": [],
   "source": [
    "cands_all.to_csv(\"fin_data/cands_all.csv\", index=False)"
   ]
  },
  {
   "cell_type": "code",
   "execution_count": 7,
   "metadata": {},
   "outputs": [
    {
     "data": {
      "text/html": [
       "<div>\n",
       "<style>\n",
       "    .dataframe thead tr:only-child th {\n",
       "        text-align: right;\n",
       "    }\n",
       "\n",
       "    .dataframe thead th {\n",
       "        text-align: left;\n",
       "    }\n",
       "\n",
       "    .dataframe tbody tr th {\n",
       "        vertical-align: top;\n",
       "    }\n",
       "</style>\n",
       "<table border=\"1\" class=\"dataframe\">\n",
       "  <thead>\n",
       "    <tr style=\"text-align: right;\">\n",
       "      <th></th>\n",
       "      <th>0</th>\n",
       "      <th>1</th>\n",
       "      <th>2</th>\n",
       "      <th>3</th>\n",
       "      <th>4</th>\n",
       "      <th>5</th>\n",
       "      <th>6</th>\n",
       "      <th>7</th>\n",
       "      <th>8</th>\n",
       "      <th>9</th>\n",
       "      <th>10</th>\n",
       "      <th>11</th>\n",
       "    </tr>\n",
       "  </thead>\n",
       "  <tbody>\n",
       "    <tr>\n",
       "      <th>0</th>\n",
       "      <td>2000</td>\n",
       "      <td>H8MN08027</td>\n",
       "      <td>N00004523</td>\n",
       "      <td>Jerry Shuster (R)</td>\n",
       "      <td>R</td>\n",
       "      <td>MN08</td>\n",
       "      <td></td>\n",
       "      <td></td>\n",
       "      <td></td>\n",
       "      <td></td>\n",
       "      <td>RN</td>\n",
       "      <td></td>\n",
       "    </tr>\n",
       "    <tr>\n",
       "      <th>1</th>\n",
       "      <td>2000</td>\n",
       "      <td>H8MO01119</td>\n",
       "      <td>N00005009</td>\n",
       "      <td>Richmond A Soluade Sr (R)</td>\n",
       "      <td>R</td>\n",
       "      <td>MO01</td>\n",
       "      <td></td>\n",
       "      <td></td>\n",
       "      <td>Y</td>\n",
       "      <td>O</td>\n",
       "      <td>RL</td>\n",
       "      <td></td>\n",
       "    </tr>\n",
       "    <tr>\n",
       "      <th>2</th>\n",
       "      <td>2000</td>\n",
       "      <td>H8MO01127</td>\n",
       "      <td>N00005073</td>\n",
       "      <td>Richard E Illyes (L)</td>\n",
       "      <td>L</td>\n",
       "      <td>MO01</td>\n",
       "      <td></td>\n",
       "      <td></td>\n",
       "      <td></td>\n",
       "      <td></td>\n",
       "      <td>3N</td>\n",
       "      <td></td>\n",
       "    </tr>\n",
       "    <tr>\n",
       "      <th>3</th>\n",
       "      <td>2000</td>\n",
       "      <td>H8MO02125</td>\n",
       "      <td>N00005015</td>\n",
       "      <td>John A Holmes Jr (R)</td>\n",
       "      <td>R</td>\n",
       "      <td>MO02</td>\n",
       "      <td></td>\n",
       "      <td></td>\n",
       "      <td></td>\n",
       "      <td></td>\n",
       "      <td>RN</td>\n",
       "      <td></td>\n",
       "    </tr>\n",
       "    <tr>\n",
       "      <th>4</th>\n",
       "      <td>2000</td>\n",
       "      <td>H8MO02133</td>\n",
       "      <td>N00005078</td>\n",
       "      <td>Brian K Lundy (L)</td>\n",
       "      <td>L</td>\n",
       "      <td>MO02</td>\n",
       "      <td></td>\n",
       "      <td></td>\n",
       "      <td></td>\n",
       "      <td></td>\n",
       "      <td>3N</td>\n",
       "      <td></td>\n",
       "    </tr>\n",
       "  </tbody>\n",
       "</table>\n",
       "</div>"
      ],
      "text/plain": [
       "      0          1          2                          3  4     5     6  7  8  \\\n",
       "0  2000  H8MN08027  N00004523          Jerry Shuster (R)  R  MN08               \n",
       "1  2000  H8MO01119  N00005009  Richmond A Soluade Sr (R)  R  MO01           Y   \n",
       "2  2000  H8MO01127  N00005073       Richard E Illyes (L)  L  MO01               \n",
       "3  2000  H8MO02125  N00005015       John A Holmes Jr (R)  R  MO02               \n",
       "4  2000  H8MO02133  N00005078          Brian K Lundy (L)  L  MO02               \n",
       "\n",
       "   9  10 11  \n",
       "0     RN     \n",
       "1  O  RL     \n",
       "2     3N     \n",
       "3     RN     \n",
       "4     3N     "
      ]
     },
     "execution_count": 7,
     "metadata": {},
     "output_type": "execute_result"
    }
   ],
   "source": [
    "pd.read_csv(\"fin_data/cands_all.csv\").head()"
   ]
  },
  {
   "cell_type": "markdown",
   "metadata": {},
   "source": [
    "## (b). cmtes"
   ]
  },
  {
   "cell_type": "code",
   "execution_count": 8,
   "metadata": {},
   "outputs": [
    {
     "data": {
      "text/plain": [
       "['fin_data/cmtes00.txt',\n",
       " 'fin_data/cmtes02.txt',\n",
       " 'fin_data/cmtes04.txt',\n",
       " 'fin_data/cmtes06.txt',\n",
       " 'fin_data/cmtes08.txt',\n",
       " 'fin_data/cmtes10.txt',\n",
       " 'fin_data/cmtes12.txt',\n",
       " 'fin_data/cmtes14.txt',\n",
       " 'fin_data/cmtes90.txt',\n",
       " 'fin_data/cmtes92.txt',\n",
       " 'fin_data/cmtes94.txt',\n",
       " 'fin_data/cmtes96.txt',\n",
       " 'fin_data/cmtes98.txt']"
      ]
     },
     "execution_count": 8,
     "metadata": {},
     "output_type": "execute_result"
    }
   ],
   "source": [
    "read_cmtes = glob.glob(\"fin_data/cmtes*.txt\")\n",
    "read_cmtes"
   ]
  },
  {
   "cell_type": "code",
   "execution_count": 10,
   "metadata": {
    "collapsed": true
   },
   "outputs": [],
   "source": [
    "# write a cmtes csv file\n",
    "n=0\n",
    "with open('fin_data/cmtes_all.csv', 'w') as outfile: #encoding = \"ISO-8859-1\"/\"utf-8\"\n",
    "    for fname in read_cmtes:\n",
    "        with open(fname, encoding = \"ISO-8859-1\") as infile:\n",
    "            for line in infile:\n",
    "                outfile.write(line)\n",
    "                n+=1"
   ]
  },
  {
   "cell_type": "code",
   "execution_count": 11,
   "metadata": {},
   "outputs": [
    {
     "data": {
      "text/plain": [
       "139549"
      ]
     },
     "execution_count": 11,
     "metadata": {},
     "output_type": "execute_result"
    }
   ],
   "source": [
    "n"
   ]
  },
  {
   "cell_type": "code",
   "execution_count": 12,
   "metadata": {},
   "outputs": [
    {
     "data": {
      "text/plain": [
       "(139549, 14)"
      ]
     },
     "execution_count": 12,
     "metadata": {},
     "output_type": "execute_result"
    }
   ],
   "source": [
    "cmtes_all = pd.read_csv(\"fin_data/cmtes_all.csv\", quotechar='|', header= None)\n",
    "np.shape(cmtes_all)"
   ]
  },
  {
   "cell_type": "code",
   "execution_count": 13,
   "metadata": {},
   "outputs": [
    {
     "data": {
      "text/html": [
       "<div>\n",
       "<style>\n",
       "    .dataframe thead tr:only-child th {\n",
       "        text-align: right;\n",
       "    }\n",
       "\n",
       "    .dataframe thead th {\n",
       "        text-align: left;\n",
       "    }\n",
       "\n",
       "    .dataframe tbody tr th {\n",
       "        vertical-align: top;\n",
       "    }\n",
       "</style>\n",
       "<table border=\"1\" class=\"dataframe\">\n",
       "  <thead>\n",
       "    <tr style=\"text-align: right;\">\n",
       "      <th></th>\n",
       "      <th>0</th>\n",
       "      <th>1</th>\n",
       "      <th>2</th>\n",
       "      <th>3</th>\n",
       "      <th>4</th>\n",
       "      <th>5</th>\n",
       "      <th>6</th>\n",
       "      <th>7</th>\n",
       "      <th>8</th>\n",
       "      <th>9</th>\n",
       "      <th>10</th>\n",
       "      <th>11</th>\n",
       "      <th>12</th>\n",
       "      <th>13</th>\n",
       "    </tr>\n",
       "  </thead>\n",
       "  <tbody>\n",
       "    <tr>\n",
       "      <th>0</th>\n",
       "      <td>2000</td>\n",
       "      <td>C00000042</td>\n",
       "      <td>Illinois Tool Works</td>\n",
       "      <td>NaN</td>\n",
       "      <td>Illinois Tool Works</td>\n",
       "      <td>C00000042</td>\n",
       "      <td>PB</td>\n",
       "      <td>NaN</td>\n",
       "      <td>NaN</td>\n",
       "      <td>M2300</td>\n",
       "      <td>Hoovers</td>\n",
       "      <td>N</td>\n",
       "      <td>0</td>\n",
       "      <td>1</td>\n",
       "    </tr>\n",
       "    <tr>\n",
       "      <th>1</th>\n",
       "      <td>2000</td>\n",
       "      <td>C00000059</td>\n",
       "      <td>Hallmark Cards</td>\n",
       "      <td>NaN</td>\n",
       "      <td>Hallmark Cards</td>\n",
       "      <td>C00000059</td>\n",
       "      <td>PB</td>\n",
       "      <td>NaN</td>\n",
       "      <td>NaN</td>\n",
       "      <td>C1400</td>\n",
       "      <td>Hoovers</td>\n",
       "      <td>N</td>\n",
       "      <td>0</td>\n",
       "      <td>1</td>\n",
       "    </tr>\n",
       "    <tr>\n",
       "      <th>2</th>\n",
       "      <td>2000</td>\n",
       "      <td>C00000125</td>\n",
       "      <td>Archer for Congress Cmte</td>\n",
       "      <td>NaN</td>\n",
       "      <td>Archer for Congress Cmte</td>\n",
       "      <td>N00005822</td>\n",
       "      <td>RI</td>\n",
       "      <td>H6TX07029</td>\n",
       "      <td>R</td>\n",
       "      <td>Z1100</td>\n",
       "      <td>Rept</td>\n",
       "      <td>N</td>\n",
       "      <td>0</td>\n",
       "      <td>1</td>\n",
       "    </tr>\n",
       "    <tr>\n",
       "      <th>3</th>\n",
       "      <td>2000</td>\n",
       "      <td>C00000372</td>\n",
       "      <td>Maintenance of Way Employees</td>\n",
       "      <td>NaN</td>\n",
       "      <td>Maintenance of Way Employees</td>\n",
       "      <td>C00000372</td>\n",
       "      <td>PL</td>\n",
       "      <td>NaN</td>\n",
       "      <td>NaN</td>\n",
       "      <td>LT400</td>\n",
       "      <td>AFP88</td>\n",
       "      <td>N</td>\n",
       "      <td>0</td>\n",
       "      <td>1</td>\n",
       "    </tr>\n",
       "    <tr>\n",
       "      <th>4</th>\n",
       "      <td>2000</td>\n",
       "      <td>C00000422</td>\n",
       "      <td>American Medical Assn</td>\n",
       "      <td>American Medical Assn</td>\n",
       "      <td>American Medical Assn</td>\n",
       "      <td>C00000422</td>\n",
       "      <td>PB</td>\n",
       "      <td>NaN</td>\n",
       "      <td>NaN</td>\n",
       "      <td>H1100</td>\n",
       "      <td>AFP88</td>\n",
       "      <td>N</td>\n",
       "      <td>0</td>\n",
       "      <td>1</td>\n",
       "    </tr>\n",
       "  </tbody>\n",
       "</table>\n",
       "</div>"
      ],
      "text/plain": [
       "      0          1                             2                      3  \\\n",
       "0  2000  C00000042           Illinois Tool Works                    NaN   \n",
       "1  2000  C00000059                Hallmark Cards                    NaN   \n",
       "2  2000  C00000125      Archer for Congress Cmte                    NaN   \n",
       "3  2000  C00000372  Maintenance of Way Employees                    NaN   \n",
       "4  2000  C00000422         American Medical Assn  American Medical Assn   \n",
       "\n",
       "                              4          5   6          7    8      9  \\\n",
       "0           Illinois Tool Works  C00000042  PB        NaN  NaN  M2300   \n",
       "1                Hallmark Cards  C00000059  PB        NaN  NaN  C1400   \n",
       "2      Archer for Congress Cmte  N00005822  RI  H6TX07029    R  Z1100   \n",
       "3  Maintenance of Way Employees  C00000372  PL        NaN  NaN  LT400   \n",
       "4         American Medical Assn  C00000422  PB        NaN  NaN  H1100   \n",
       "\n",
       "        10 11  12  13  \n",
       "0  Hoovers  N   0   1  \n",
       "1  Hoovers  N   0   1  \n",
       "2     Rept  N   0   1  \n",
       "3    AFP88  N   0   1  \n",
       "4    AFP88  N   0   1  "
      ]
     },
     "execution_count": 13,
     "metadata": {},
     "output_type": "execute_result"
    }
   ],
   "source": [
    "cmtes_all.to_csv(\"fin_data/cmtes_all.csv\", index=False)\n",
    "pd.read_csv(\"fin_data/cmtes_all.csv\").head()"
   ]
  },
  {
   "cell_type": "markdown",
   "metadata": {},
   "source": [
    "## (c). indivs"
   ]
  },
  {
   "cell_type": "code",
   "execution_count": 14,
   "metadata": {},
   "outputs": [
    {
     "data": {
      "text/plain": [
       "['fin_data/indivs00.txt',\n",
       " 'fin_data/indivs02.txt',\n",
       " 'fin_data/indivs04.txt',\n",
       " 'fin_data/indivs06.txt',\n",
       " 'fin_data/indivs08.txt',\n",
       " 'fin_data/indivs10.txt',\n",
       " 'fin_data/indivs12.txt',\n",
       " 'fin_data/indivs14.txt',\n",
       " 'fin_data/indivs90.txt',\n",
       " 'fin_data/indivs92.txt',\n",
       " 'fin_data/indivs94.txt',\n",
       " 'fin_data/indivs96.txt',\n",
       " 'fin_data/indivs98.txt']"
      ]
     },
     "execution_count": 14,
     "metadata": {},
     "output_type": "execute_result"
    }
   ],
   "source": [
    "read_indivs = glob.glob(\"fin_data/indivs*.txt\")\n",
    "read_indivs"
   ]
  },
  {
   "cell_type": "code",
   "execution_count": 15,
   "metadata": {
    "collapsed": true
   },
   "outputs": [],
   "source": [
    "# write a cands csv file\n",
    "n=0\n",
    "with open('fin_data/indivs_all.csv', 'w') as outfile:\n",
    "    for fname in read_indivs:\n",
    "        with open(fname, encoding = \"ISO-8859-1\") as infile:\n",
    "            for line in infile:\n",
    "                outfile.write(line)\n",
    "                n+=1"
   ]
  },
  {
   "cell_type": "code",
   "execution_count": 16,
   "metadata": {},
   "outputs": [
    {
     "data": {
      "text/plain": [
       "23953687"
      ]
     },
     "execution_count": 16,
     "metadata": {},
     "output_type": "execute_result"
    }
   ],
   "source": [
    "n"
   ]
  },
  {
   "cell_type": "code",
   "execution_count": 18,
   "metadata": {},
   "outputs": [
    {
     "name": "stderr",
     "output_type": "stream",
     "text": [
      "/anaconda/lib/python3.6/site-packages/IPython/core/interactiveshell.py:2717: DtypeWarning: Columns (15,17,19,20) have mixed types. Specify dtype option on import or set low_memory=False.\n",
      "  interactivity=interactivity, compiler=compiler, result=result)\n"
     ]
    },
    {
     "data": {
      "text/plain": [
       "(23953687, 23)"
      ]
     },
     "execution_count": 18,
     "metadata": {},
     "output_type": "execute_result"
    }
   ],
   "source": [
    "indivs_all = pd.read_csv(\"fin_data/indivs_all.csv\", quotechar='|', header= None)\n",
    "np.shape(indivs_all)"
   ]
  },
  {
   "cell_type": "code",
   "execution_count": 19,
   "metadata": {},
   "outputs": [
    {
     "name": "stderr",
     "output_type": "stream",
     "text": [
      "/anaconda/lib/python3.6/site-packages/IPython/core/interactiveshell.py:2717: DtypeWarning: Columns (15,17,19,20) have mixed types. Specify dtype option on import or set low_memory=False.\n",
      "  interactivity=interactivity, compiler=compiler, result=result)\n"
     ]
    },
    {
     "data": {
      "text/html": [
       "<div>\n",
       "<style>\n",
       "    .dataframe thead tr:only-child th {\n",
       "        text-align: right;\n",
       "    }\n",
       "\n",
       "    .dataframe thead th {\n",
       "        text-align: left;\n",
       "    }\n",
       "\n",
       "    .dataframe tbody tr th {\n",
       "        vertical-align: top;\n",
       "    }\n",
       "</style>\n",
       "<table border=\"1\" class=\"dataframe\">\n",
       "  <thead>\n",
       "    <tr style=\"text-align: right;\">\n",
       "      <th></th>\n",
       "      <th>0</th>\n",
       "      <th>1</th>\n",
       "      <th>2</th>\n",
       "      <th>3</th>\n",
       "      <th>4</th>\n",
       "      <th>5</th>\n",
       "      <th>6</th>\n",
       "      <th>7</th>\n",
       "      <th>8</th>\n",
       "      <th>9</th>\n",
       "      <th>...</th>\n",
       "      <th>13</th>\n",
       "      <th>14</th>\n",
       "      <th>15</th>\n",
       "      <th>16</th>\n",
       "      <th>17</th>\n",
       "      <th>18</th>\n",
       "      <th>19</th>\n",
       "      <th>20</th>\n",
       "      <th>21</th>\n",
       "      <th>22</th>\n",
       "    </tr>\n",
       "  </thead>\n",
       "  <tbody>\n",
       "    <tr>\n",
       "      <th>0</th>\n",
       "      <td>2000</td>\n",
       "      <td>3061920110006561518</td>\n",
       "      <td>e1110676533</td>\n",
       "      <td>OLIVER, GEORGIANNA</td>\n",
       "      <td>N00005233</td>\n",
       "      <td>Metrocorp</td>\n",
       "      <td>NaN</td>\n",
       "      <td>F4500</td>\n",
       "      <td>10/19/1999</td>\n",
       "      <td>500</td>\n",
       "      <td>...</td>\n",
       "      <td>66206</td>\n",
       "      <td>DW</td>\n",
       "      <td>15</td>\n",
       "      <td>C00331066</td>\n",
       "      <td>NaN</td>\n",
       "      <td>F</td>\n",
       "      <td>20035100228</td>\n",
       "      <td>NaN</td>\n",
       "      <td>METROCORP</td>\n",
       "      <td>AYP99</td>\n",
       "    </tr>\n",
       "    <tr>\n",
       "      <th>1</th>\n",
       "      <td>2000</td>\n",
       "      <td>3061920110006561519</td>\n",
       "      <td>e1110933222</td>\n",
       "      <td>TOWNSLEY, RUSSELL</td>\n",
       "      <td>N00005233</td>\n",
       "      <td>Premium Standard Farms</td>\n",
       "      <td>ContiGroup Companies</td>\n",
       "      <td>A3000</td>\n",
       "      <td>08/31/1999</td>\n",
       "      <td>500</td>\n",
       "      <td>...</td>\n",
       "      <td>66210</td>\n",
       "      <td>DW</td>\n",
       "      <td>15</td>\n",
       "      <td>C00331066</td>\n",
       "      <td>NaN</td>\n",
       "      <td>M</td>\n",
       "      <td>20035100228</td>\n",
       "      <td>NaN</td>\n",
       "      <td>CONTINENTAL GRAIN</td>\n",
       "      <td>PAC</td>\n",
       "    </tr>\n",
       "    <tr>\n",
       "      <th>2</th>\n",
       "      <td>2000</td>\n",
       "      <td>3061920110006561520</td>\n",
       "      <td>f0010621914</td>\n",
       "      <td>EFFERTZ, HENRY</td>\n",
       "      <td>N00005233</td>\n",
       "      <td>Retired</td>\n",
       "      <td>NaN</td>\n",
       "      <td>X1200</td>\n",
       "      <td>10/22/1999</td>\n",
       "      <td>250</td>\n",
       "      <td>...</td>\n",
       "      <td>66208</td>\n",
       "      <td>DW</td>\n",
       "      <td>15</td>\n",
       "      <td>C00331066</td>\n",
       "      <td>NaN</td>\n",
       "      <td>M</td>\n",
       "      <td>20035100229</td>\n",
       "      <td>NaN</td>\n",
       "      <td>BEST EFFORT</td>\n",
       "      <td>Gen</td>\n",
       "    </tr>\n",
       "    <tr>\n",
       "      <th>3</th>\n",
       "      <td>2000</td>\n",
       "      <td>3061920110006561521</td>\n",
       "      <td>f0000101938</td>\n",
       "      <td>WESTBROOK, DAVID</td>\n",
       "      <td>N00005233</td>\n",
       "      <td>Corporate Communications</td>\n",
       "      <td>NaN</td>\n",
       "      <td>G5000</td>\n",
       "      <td>11/17/1999</td>\n",
       "      <td>1000</td>\n",
       "      <td>...</td>\n",
       "      <td>66210</td>\n",
       "      <td>DW</td>\n",
       "      <td>15</td>\n",
       "      <td>C00331066</td>\n",
       "      <td>NaN</td>\n",
       "      <td>M</td>\n",
       "      <td>20035100229</td>\n",
       "      <td>NaN</td>\n",
       "      <td>CORPORATE COMMUNICATIONS</td>\n",
       "      <td>Gen</td>\n",
       "    </tr>\n",
       "    <tr>\n",
       "      <th>4</th>\n",
       "      <td>2000</td>\n",
       "      <td>3061920110006561522</td>\n",
       "      <td>f0010620683</td>\n",
       "      <td>JOHNS, THOMAS H</td>\n",
       "      <td>N00005233</td>\n",
       "      <td>Retired</td>\n",
       "      <td>NaN</td>\n",
       "      <td>X1200</td>\n",
       "      <td>12/28/1999</td>\n",
       "      <td>250</td>\n",
       "      <td>...</td>\n",
       "      <td>66206</td>\n",
       "      <td>DW</td>\n",
       "      <td>15</td>\n",
       "      <td>C00331066</td>\n",
       "      <td>NaN</td>\n",
       "      <td>M</td>\n",
       "      <td>20035100229</td>\n",
       "      <td>NaN</td>\n",
       "      <td>RETIRED</td>\n",
       "      <td>Gen</td>\n",
       "    </tr>\n",
       "  </tbody>\n",
       "</table>\n",
       "<p>5 rows × 23 columns</p>\n",
       "</div>"
      ],
      "text/plain": [
       "      0                    1             2                   3          4  \\\n",
       "0  2000  3061920110006561518  e1110676533   OLIVER, GEORGIANNA  N00005233   \n",
       "1  2000  3061920110006561519  e1110933222    TOWNSLEY, RUSSELL  N00005233   \n",
       "2  2000  3061920110006561520  f0010621914       EFFERTZ, HENRY  N00005233   \n",
       "3  2000  3061920110006561521  f0000101938     WESTBROOK, DAVID  N00005233   \n",
       "4  2000  3061920110006561522  f0010620683      JOHNS, THOMAS H  N00005233   \n",
       "\n",
       "                          5                     6      7           8     9  \\\n",
       "0                 Metrocorp                   NaN  F4500  10/19/1999   500   \n",
       "1    Premium Standard Farms  ContiGroup Companies  A3000  08/31/1999   500   \n",
       "2                   Retired                   NaN  X1200  10/22/1999   250   \n",
       "3  Corporate Communications                   NaN  G5000  11/17/1999  1000   \n",
       "4                   Retired                   NaN  X1200  12/28/1999   250   \n",
       "\n",
       "   ...       13  14   15         16   17 18                  19   20  \\\n",
       "0  ...    66206  DW  15   C00331066  NaN  F  20035100228         NaN   \n",
       "1  ...    66210  DW  15   C00331066  NaN  M  20035100228         NaN   \n",
       "2  ...    66208  DW  15   C00331066  NaN  M  20035100229         NaN   \n",
       "3  ...    66210  DW  15   C00331066  NaN  M  20035100229         NaN   \n",
       "4  ...    66206  DW  15   C00331066  NaN  M  20035100229         NaN   \n",
       "\n",
       "                         21     22  \n",
       "0                 METROCORP  AYP99  \n",
       "1         CONTINENTAL GRAIN  PAC    \n",
       "2               BEST EFFORT  Gen    \n",
       "3  CORPORATE COMMUNICATIONS  Gen    \n",
       "4                   RETIRED  Gen    \n",
       "\n",
       "[5 rows x 23 columns]"
      ]
     },
     "execution_count": 19,
     "metadata": {},
     "output_type": "execute_result"
    }
   ],
   "source": [
    "indivs_all.to_csv(\"fin_data/indivs_all.csv\", index=False)\n",
    "pd.read_csv(\"fin_data/indivs_all.csv\").head()"
   ]
  },
  {
   "cell_type": "markdown",
   "metadata": {},
   "source": [
    "## (d). pac_other"
   ]
  },
  {
   "cell_type": "code",
   "execution_count": 20,
   "metadata": {},
   "outputs": [
    {
     "data": {
      "text/plain": [
       "['fin_data/pac_other00.txt',\n",
       " 'fin_data/pac_other02.txt',\n",
       " 'fin_data/pac_other04.txt',\n",
       " 'fin_data/pac_other06.txt',\n",
       " 'fin_data/pac_other08.txt',\n",
       " 'fin_data/pac_other10.txt',\n",
       " 'fin_data/pac_other12.txt',\n",
       " 'fin_data/pac_other14.txt',\n",
       " 'fin_data/pac_other90.txt',\n",
       " 'fin_data/pac_other92.txt',\n",
       " 'fin_data/pac_other94.txt',\n",
       " 'fin_data/pac_other96.txt',\n",
       " 'fin_data/pac_other98.txt']"
      ]
     },
     "execution_count": 20,
     "metadata": {},
     "output_type": "execute_result"
    }
   ],
   "source": [
    "read_pac_other = glob.glob(\"fin_data/pac_other*.txt\")\n",
    "read_pac_other"
   ]
  },
  {
   "cell_type": "code",
   "execution_count": 21,
   "metadata": {
    "collapsed": true
   },
   "outputs": [],
   "source": [
    "# write a pac_other csv file\n",
    "n = 0\n",
    "with open('fin_data/pac_other_all.csv', 'w') as outfile:\n",
    "    for fname in read_pac_other:\n",
    "        with open(fname, encoding = \"ISO-8859-1\") as infile:\n",
    "            for line in infile:\n",
    "                outfile.write(line)\n",
    "                n += 1"
   ]
  },
  {
   "cell_type": "code",
   "execution_count": 22,
   "metadata": {},
   "outputs": [
    {
     "data": {
      "text/plain": [
       "962677"
      ]
     },
     "execution_count": 22,
     "metadata": {},
     "output_type": "execute_result"
    }
   ],
   "source": [
    "n"
   ]
  },
  {
   "cell_type": "code",
   "execution_count": 23,
   "metadata": {},
   "outputs": [
    {
     "name": "stderr",
     "output_type": "stream",
     "text": [
      "/anaconda/lib/python3.6/site-packages/IPython/core/interactiveshell.py:2717: DtypeWarning: Columns (7,8) have mixed types. Specify dtype option on import or set low_memory=False.\n",
      "  interactivity=interactivity, compiler=compiler, result=result)\n"
     ]
    },
    {
     "data": {
      "text/plain": [
       "(962677, 24)"
      ]
     },
     "execution_count": 23,
     "metadata": {},
     "output_type": "execute_result"
    }
   ],
   "source": [
    "pac_other_all = pd.read_csv(\"fin_data/pac_other_all.csv\", quotechar='|', header= None)\n",
    "np.shape(pac_other_all)"
   ]
  },
  {
   "cell_type": "code",
   "execution_count": 24,
   "metadata": {},
   "outputs": [
    {
     "name": "stderr",
     "output_type": "stream",
     "text": [
      "/anaconda/lib/python3.6/site-packages/IPython/core/interactiveshell.py:2717: DtypeWarning: Columns (7,8) have mixed types. Specify dtype option on import or set low_memory=False.\n",
      "  interactivity=interactivity, compiler=compiler, result=result)\n"
     ]
    },
    {
     "data": {
      "text/html": [
       "<div>\n",
       "<style>\n",
       "    .dataframe thead tr:only-child th {\n",
       "        text-align: right;\n",
       "    }\n",
       "\n",
       "    .dataframe thead th {\n",
       "        text-align: left;\n",
       "    }\n",
       "\n",
       "    .dataframe tbody tr th {\n",
       "        vertical-align: top;\n",
       "    }\n",
       "</style>\n",
       "<table border=\"1\" class=\"dataframe\">\n",
       "  <thead>\n",
       "    <tr style=\"text-align: right;\">\n",
       "      <th></th>\n",
       "      <th>0</th>\n",
       "      <th>1</th>\n",
       "      <th>2</th>\n",
       "      <th>3</th>\n",
       "      <th>4</th>\n",
       "      <th>5</th>\n",
       "      <th>6</th>\n",
       "      <th>7</th>\n",
       "      <th>8</th>\n",
       "      <th>9</th>\n",
       "      <th>...</th>\n",
       "      <th>14</th>\n",
       "      <th>15</th>\n",
       "      <th>16</th>\n",
       "      <th>17</th>\n",
       "      <th>18</th>\n",
       "      <th>19</th>\n",
       "      <th>20</th>\n",
       "      <th>21</th>\n",
       "      <th>22</th>\n",
       "      <th>23</th>\n",
       "    </tr>\n",
       "  </thead>\n",
       "  <tbody>\n",
       "    <tr>\n",
       "      <th>0</th>\n",
       "      <td>2000</td>\n",
       "      <td>1030820130013538907</td>\n",
       "      <td>C00027466</td>\n",
       "      <td>Cigna Corp</td>\n",
       "      <td>NaN</td>\n",
       "      <td>NaN</td>\n",
       "      <td>NaN</td>\n",
       "      <td>NaN</td>\n",
       "      <td>NaN</td>\n",
       "      <td>F3100</td>\n",
       "      <td>...</td>\n",
       "      <td>C00085316</td>\n",
       "      <td>RP</td>\n",
       "      <td>Z5100</td>\n",
       "      <td>A</td>\n",
       "      <td>M8</td>\n",
       "      <td></td>\n",
       "      <td>9.902010e+10</td>\n",
       "      <td>18K</td>\n",
       "      <td>F3100</td>\n",
       "      <td>PAC</td>\n",
       "    </tr>\n",
       "    <tr>\n",
       "      <th>1</th>\n",
       "      <td>2000</td>\n",
       "      <td>1030820130013538908</td>\n",
       "      <td>C00027466</td>\n",
       "      <td>Food Marketing Institute</td>\n",
       "      <td>NaN</td>\n",
       "      <td>NaN</td>\n",
       "      <td>NaN</td>\n",
       "      <td>NaN</td>\n",
       "      <td>NaN</td>\n",
       "      <td>G2400</td>\n",
       "      <td>...</td>\n",
       "      <td>C00014555</td>\n",
       "      <td>RP</td>\n",
       "      <td>Z5100</td>\n",
       "      <td>A</td>\n",
       "      <td>M8</td>\n",
       "      <td></td>\n",
       "      <td>9.902010e+10</td>\n",
       "      <td>18K</td>\n",
       "      <td>G2400</td>\n",
       "      <td>PAC</td>\n",
       "    </tr>\n",
       "    <tr>\n",
       "      <th>2</th>\n",
       "      <td>2000</td>\n",
       "      <td>1030820130013538909</td>\n",
       "      <td>C00027466</td>\n",
       "      <td>General Dynamics</td>\n",
       "      <td>NaN</td>\n",
       "      <td>NaN</td>\n",
       "      <td>NaN</td>\n",
       "      <td>NaN</td>\n",
       "      <td>NaN</td>\n",
       "      <td>D2000</td>\n",
       "      <td>...</td>\n",
       "      <td>C00078451</td>\n",
       "      <td>RP</td>\n",
       "      <td>Z5100</td>\n",
       "      <td>A</td>\n",
       "      <td>M8</td>\n",
       "      <td></td>\n",
       "      <td>9.902010e+10</td>\n",
       "      <td>18K</td>\n",
       "      <td>D2000</td>\n",
       "      <td>PAC</td>\n",
       "    </tr>\n",
       "    <tr>\n",
       "      <th>3</th>\n",
       "      <td>2000</td>\n",
       "      <td>1030820130013538910</td>\n",
       "      <td>C00027466</td>\n",
       "      <td>Occidental Petroleum</td>\n",
       "      <td>NaN</td>\n",
       "      <td>NaN</td>\n",
       "      <td>NaN</td>\n",
       "      <td>NaN</td>\n",
       "      <td>NaN</td>\n",
       "      <td>E1110</td>\n",
       "      <td>...</td>\n",
       "      <td>C00083857</td>\n",
       "      <td>RP</td>\n",
       "      <td>Z5100</td>\n",
       "      <td>A</td>\n",
       "      <td>M8</td>\n",
       "      <td></td>\n",
       "      <td>9.902010e+10</td>\n",
       "      <td>18K</td>\n",
       "      <td>E1110</td>\n",
       "      <td>PAC</td>\n",
       "    </tr>\n",
       "    <tr>\n",
       "      <th>4</th>\n",
       "      <td>2000</td>\n",
       "      <td>1030820130013538911</td>\n",
       "      <td>C00027466</td>\n",
       "      <td>Seaboard Corp</td>\n",
       "      <td>NaN</td>\n",
       "      <td>NaN</td>\n",
       "      <td>NaN</td>\n",
       "      <td>NaN</td>\n",
       "      <td>NaN</td>\n",
       "      <td>G2300</td>\n",
       "      <td>...</td>\n",
       "      <td>C00246736</td>\n",
       "      <td>RP</td>\n",
       "      <td>Z5100</td>\n",
       "      <td>A</td>\n",
       "      <td>M8</td>\n",
       "      <td></td>\n",
       "      <td>9.902010e+10</td>\n",
       "      <td>18K</td>\n",
       "      <td>G2300</td>\n",
       "      <td>PAC</td>\n",
       "    </tr>\n",
       "  </tbody>\n",
       "</table>\n",
       "<p>5 rows × 24 columns</p>\n",
       "</div>"
      ],
      "text/plain": [
       "      0                    1          2                         3    4    5  \\\n",
       "0  2000  1030820130013538907  C00027466                Cigna Corp  NaN  NaN   \n",
       "1  2000  1030820130013538908  C00027466  Food Marketing Institute  NaN  NaN   \n",
       "2  2000  1030820130013538909  C00027466          General Dynamics  NaN  NaN   \n",
       "3  2000  1030820130013538910  C00027466      Occidental Petroleum  NaN  NaN   \n",
       "4  2000  1030820130013538911  C00027466             Seaboard Corp  NaN  NaN   \n",
       "\n",
       "     6    7    8      9  ...           14  15     16 17   18 19            20  \\\n",
       "0  NaN  NaN  NaN  F3100  ...    C00085316  RP  Z5100  A  M8      9.902010e+10   \n",
       "1  NaN  NaN  NaN  G2400  ...    C00014555  RP  Z5100  A  M8      9.902010e+10   \n",
       "2  NaN  NaN  NaN  D2000  ...    C00078451  RP  Z5100  A  M8      9.902010e+10   \n",
       "3  NaN  NaN  NaN  E1110  ...    C00083857  RP  Z5100  A  M8      9.902010e+10   \n",
       "4  NaN  NaN  NaN  G2300  ...    C00246736  RP  Z5100  A  M8      9.902010e+10   \n",
       "\n",
       "    21     22     23  \n",
       "0  18K  F3100  PAC    \n",
       "1  18K  G2400  PAC    \n",
       "2  18K  D2000  PAC    \n",
       "3  18K  E1110  PAC    \n",
       "4  18K  G2300  PAC    \n",
       "\n",
       "[5 rows x 24 columns]"
      ]
     },
     "execution_count": 24,
     "metadata": {},
     "output_type": "execute_result"
    }
   ],
   "source": [
    "pac_other_all.to_csv(\"fin_data/pac_other_all.csv\", index=False)\n",
    "pd.read_csv(\"fin_data/pac_other_all.csv\").head()"
   ]
  },
  {
   "cell_type": "markdown",
   "metadata": {},
   "source": [
    "## (e.) pacs"
   ]
  },
  {
   "cell_type": "code",
   "execution_count": 25,
   "metadata": {},
   "outputs": [
    {
     "data": {
      "text/plain": [
       "['fin_data/pacs00.txt',\n",
       " 'fin_data/pacs02.txt',\n",
       " 'fin_data/pacs04.txt',\n",
       " 'fin_data/pacs06.txt',\n",
       " 'fin_data/pacs08.txt',\n",
       " 'fin_data/pacs10.txt',\n",
       " 'fin_data/pacs12.txt',\n",
       " 'fin_data/pacs14.txt',\n",
       " 'fin_data/pacs90.txt',\n",
       " 'fin_data/pacs92.txt',\n",
       " 'fin_data/pacs94.txt',\n",
       " 'fin_data/pacs96.txt',\n",
       " 'fin_data/pacs98.txt']"
      ]
     },
     "execution_count": 25,
     "metadata": {},
     "output_type": "execute_result"
    }
   ],
   "source": [
    "read_pacs = glob.glob(\"fin_data/pacs*.txt\")\n",
    "read_pacs"
   ]
  },
  {
   "cell_type": "code",
   "execution_count": 26,
   "metadata": {
    "collapsed": true
   },
   "outputs": [],
   "source": [
    "# write a pacs csv file\n",
    "n = 0\n",
    "with open('fin_data/pacs_all.csv', 'w') as outfile:\n",
    "    for fname in read_pacs:\n",
    "        with open(fname) as infile:\n",
    "            for line in infile:\n",
    "                outfile.write(line)\n",
    "                n += 1"
   ]
  },
  {
   "cell_type": "code",
   "execution_count": 27,
   "metadata": {},
   "outputs": [
    {
     "data": {
      "text/plain": [
       "3506078"
      ]
     },
     "execution_count": 27,
     "metadata": {},
     "output_type": "execute_result"
    }
   ],
   "source": [
    "n"
   ]
  },
  {
   "cell_type": "code",
   "execution_count": 28,
   "metadata": {},
   "outputs": [
    {
     "name": "stderr",
     "output_type": "stream",
     "text": [
      "/anaconda/lib/python3.6/site-packages/IPython/core/interactiveshell.py:2717: DtypeWarning: Columns (1) have mixed types. Specify dtype option on import or set low_memory=False.\n",
      "  interactivity=interactivity, compiler=compiler, result=result)\n"
     ]
    },
    {
     "data": {
      "text/plain": [
       "(3506078, 10)"
      ]
     },
     "execution_count": 28,
     "metadata": {},
     "output_type": "execute_result"
    }
   ],
   "source": [
    "pacs_all = pd.read_csv(\"fin_data/pacs_all.csv\", quotechar='|', header= None)\n",
    "np.shape(pacs_all)"
   ]
  },
  {
   "cell_type": "code",
   "execution_count": 29,
   "metadata": {},
   "outputs": [
    {
     "name": "stderr",
     "output_type": "stream",
     "text": [
      "/anaconda/lib/python3.6/site-packages/IPython/core/interactiveshell.py:2717: DtypeWarning: Columns (1) have mixed types. Specify dtype option on import or set low_memory=False.\n",
      "  interactivity=interactivity, compiler=compiler, result=result)\n"
     ]
    },
    {
     "data": {
      "text/html": [
       "<div>\n",
       "<style>\n",
       "    .dataframe thead tr:only-child th {\n",
       "        text-align: right;\n",
       "    }\n",
       "\n",
       "    .dataframe thead th {\n",
       "        text-align: left;\n",
       "    }\n",
       "\n",
       "    .dataframe tbody tr th {\n",
       "        vertical-align: top;\n",
       "    }\n",
       "</style>\n",
       "<table border=\"1\" class=\"dataframe\">\n",
       "  <thead>\n",
       "    <tr style=\"text-align: right;\">\n",
       "      <th></th>\n",
       "      <th>0</th>\n",
       "      <th>1</th>\n",
       "      <th>2</th>\n",
       "      <th>3</th>\n",
       "      <th>4</th>\n",
       "      <th>5</th>\n",
       "      <th>6</th>\n",
       "      <th>7</th>\n",
       "      <th>8</th>\n",
       "      <th>9</th>\n",
       "    </tr>\n",
       "  </thead>\n",
       "  <tbody>\n",
       "    <tr>\n",
       "      <th>0</th>\n",
       "      <td>2000</td>\n",
       "      <td>3062020110009922921</td>\n",
       "      <td>C00229203</td>\n",
       "      <td>N00002685</td>\n",
       "      <td>1000</td>\n",
       "      <td>08/24/2000</td>\n",
       "      <td>F3400</td>\n",
       "      <td>24K</td>\n",
       "      <td>D</td>\n",
       "      <td>H2GA08038</td>\n",
       "    </tr>\n",
       "    <tr>\n",
       "      <th>1</th>\n",
       "      <td>2000</td>\n",
       "      <td>3062020110011703950</td>\n",
       "      <td>C00105981</td>\n",
       "      <td>N00002577</td>\n",
       "      <td>1000</td>\n",
       "      <td>05/31/2000</td>\n",
       "      <td>F2100</td>\n",
       "      <td>24K</td>\n",
       "      <td>D</td>\n",
       "      <td>H6GA05217</td>\n",
       "    </tr>\n",
       "    <tr>\n",
       "      <th>2</th>\n",
       "      <td>2000</td>\n",
       "      <td>3062020110011902876</td>\n",
       "      <td>C00078451</td>\n",
       "      <td>N00006981</td>\n",
       "      <td>500</td>\n",
       "      <td>02/07/2000</td>\n",
       "      <td>D2000</td>\n",
       "      <td>24K</td>\n",
       "      <td>D</td>\n",
       "      <td>H4CA49032</td>\n",
       "    </tr>\n",
       "    <tr>\n",
       "      <th>3</th>\n",
       "      <td>2000</td>\n",
       "      <td>3062020110010365917</td>\n",
       "      <td>C00195263</td>\n",
       "      <td>N00006954</td>\n",
       "      <td>1000</td>\n",
       "      <td>07/27/2000</td>\n",
       "      <td>T1700</td>\n",
       "      <td>24K</td>\n",
       "      <td>D</td>\n",
       "      <td>H8CA41063</td>\n",
       "    </tr>\n",
       "    <tr>\n",
       "      <th>4</th>\n",
       "      <td>2000</td>\n",
       "      <td>3062020110011006932</td>\n",
       "      <td>C00108209</td>\n",
       "      <td>N00001849</td>\n",
       "      <td>500</td>\n",
       "      <td>06/19/2000</td>\n",
       "      <td>E1620</td>\n",
       "      <td>24K</td>\n",
       "      <td>D</td>\n",
       "      <td>H2MD05361</td>\n",
       "    </tr>\n",
       "  </tbody>\n",
       "</table>\n",
       "</div>"
      ],
      "text/plain": [
       "      0                    1          2          3     4           5      6  \\\n",
       "0  2000  3062020110009922921  C00229203  N00002685  1000  08/24/2000  F3400   \n",
       "1  2000  3062020110011703950  C00105981  N00002577  1000  05/31/2000  F2100   \n",
       "2  2000  3062020110011902876  C00078451  N00006981   500  02/07/2000  D2000   \n",
       "3  2000  3062020110010365917  C00195263  N00006954  1000  07/27/2000  T1700   \n",
       "4  2000  3062020110011006932  C00108209  N00001849   500  06/19/2000  E1620   \n",
       "\n",
       "     7  8          9  \n",
       "0  24K  D  H2GA08038  \n",
       "1  24K  D  H6GA05217  \n",
       "2  24K  D  H4CA49032  \n",
       "3  24K  D  H8CA41063  \n",
       "4  24K  D  H2MD05361  "
      ]
     },
     "execution_count": 29,
     "metadata": {},
     "output_type": "execute_result"
    }
   ],
   "source": [
    "pacs_all.to_csv(\"fin_data/pacs_all.csv\", index=False)\n",
    "pd.read_csv(\"fin_data/pacs_all.csv\").head()"
   ]
  },
  {
   "cell_type": "code",
   "execution_count": null,
   "metadata": {},
   "outputs": [],
   "source": [
    "# pacs_cols = [\"1\",\"2\",\"3\",\"4\",\"5\",\"6\",\"7\",\"8\",\"9\",\"10\",\"11\",\"12\",\"13\",\"14\"] \n",
    "# pacs_all = pd.read_csv(\"fin_data/pacs_all.csv\", names=pacs_cols, header=None) #names=cands_cols, .reset_index()\n",
    "# pacs_all = pacs_all.replace('\\|', '', regex=True)\n",
    "# pacs_all.columns = pacs_cols\n",
    "# pacs_all.head()\n",
    "\n",
    "# glob reads txt files + concat txt\n",
    "# https://stackoverflow.com/questions/17749058/combine-multiple-text-files-into-one-text-file-using-python\n",
    "# https://stackoverflow.com/questions/13613336/python-concatenate-text-files\n",
    "\n",
    "# make pandas fill in NaN for the missing columns while reading the data\n",
    "# https://stackoverflow.com/questions/15242746/handling-variable-number-of-columns-with-pandas-python\n",
    "\n",
    "# error_bad_lines\n",
    "# https://stackoverflow.com/questions/18039057/python-pandas-error-tokenizing-data\n",
    "\n",
    "# add header to df\n",
    "# https://stackoverflow.com/questions/34091877/how-to-add-header-row-to-a-pandas-dataframe"
   ]
  }
 ],
 "metadata": {
  "kernelspec": {
   "display_name": "Python 3",
   "language": "python",
   "name": "python3"
  },
  "language_info": {
   "codemirror_mode": {
    "name": "ipython",
    "version": 3
   },
   "file_extension": ".py",
   "mimetype": "text/x-python",
   "name": "python",
   "nbconvert_exporter": "python",
   "pygments_lexer": "ipython3",
   "version": "3.6.1"
  }
 },
 "nbformat": 4,
 "nbformat_minor": 2
}
